{
  "nbformat": 4,
  "nbformat_minor": 0,
  "metadata": {
    "colab": {
      "name": "Deep Learning using Convolution Neural Network on Fashion MNIST with Tensor Flow Keras.ipynb",
      "version": "0.3.2",
      "provenance": [],
      "collapsed_sections": [],
      "include_colab_link": true
    },
    "kernelspec": {
      "name": "python3",
      "display_name": "Python 3"
    },
    "accelerator": "TPU"
  },
  "cells": [
    {
      "cell_type": "markdown",
      "metadata": {
        "id": "view-in-github",
        "colab_type": "text"
      },
      "source": [
        "<a href=\"https://colab.research.google.com/github/OluomaP/Deep-Learning-using-Convolution-Neural-Network-on-Fashion-MNIST-with-Tensor-Flow-Keras1/blob/master/Deep_Learning_using_Convolution_Neural_Network_on_Fashion_MNIST_with_Tensor_Flow_Keras.ipynb\" target=\"_parent\"><img src=\"https://colab.research.google.com/assets/colab-badge.svg\" alt=\"Open In Colab\"/></a>"
      ]
    },
    {
      "cell_type": "markdown",
      "metadata": {
        "id": "ilOaRw35H8Ey",
        "colab_type": "text"
      },
      "source": [
        "**This project trainet a neural network using tensorflow**"
      ]
    },
    {
      "cell_type": "code",
      "metadata": {
        "id": "EQSoerWwt_lL",
        "colab_type": "code",
        "colab": {}
      },
      "source": [
        "import tensorflow as tf\n",
        "import numpy as np\n",
        "import distutils\n",
        "\n",
        "(x_train, y_train), (x_test, y_test) = tf.keras.datasets.fashion_mnist.load_data()\n",
        "\n",
        "#add empty color dimension\n",
        "x_train = np.expand_dims(x_train, -1)\n",
        "x_test = np.expand_dims(x_test, -1)"
      ],
      "execution_count": 0,
      "outputs": []
    },
    {
      "cell_type": "markdown",
      "metadata": {
        "id": "k44L3S64TpnX",
        "colab_type": "text"
      },
      "source": [
        "**Building the CNN MNIST Classifier**"
      ]
    },
    {
      "cell_type": "code",
      "metadata": {
        "id": "tC9RSXnOuEnF",
        "colab_type": "code",
        "colab": {}
      },
      "source": [
        "def create_model():\n",
        "  model = tf.keras.models.Sequential()\n",
        "  model.add(tf.keras.layers.BatchNormalization(input_shape=x_train.shape[1:]))\n",
        "  model.add(tf.keras.layers.Conv2D(64,(5,5), padding=\"same\", activation = \"elu\"))\n",
        "  model.add(tf.keras.layers.MaxPooling2D(pool_size=(2,2), strides=(2,2)))\n",
        "  model.add(tf.keras.layers.Dropout(0.25))\n",
        "  \n",
        "  model.add(tf.keras.layers.BatchNormalization(input_shape=x_train.shape[1:]))\n",
        "  model.add(tf.keras.layers.Conv2D(128,(5,5), padding=\"same\", activation = \"elu\"))\n",
        "  model.add(tf.keras.layers.MaxPooling2D(pool_size=(2,2), strides=(2,2)))\n",
        "  model.add(tf.keras.layers.Dropout(0.25))\n",
        "  \n",
        "  model.add(tf.keras.layers.BatchNormalization(input_shape=x_train.shape[1:]))\n",
        "  model.add(tf.keras.layers.Conv2D(256,(5,5), padding=\"same\", activation = \"elu\"))\n",
        "  model.add(tf.keras.layers.MaxPooling2D(pool_size=(2,2), strides=(2,2)))\n",
        "  model.add(tf.keras.layers.Dropout(0.25))\n",
        "  \n",
        "  model.add(tf.keras.layers.Flatten())\n",
        "  model.add(tf.keras.layers.Dense(256))\n",
        "  model.add(tf.keras.layers.Activation(\"elu\"))         \n",
        "  model.add(tf.keras.layers.Dropout(0.5))         \n",
        "  model.add(tf.keras.layers.Dense(10))         \n",
        "  model.add(tf.keras.layers.Activation(\"softmax\"))\n",
        "  return model"
      ],
      "execution_count": 0,
      "outputs": []
    },
    {
      "cell_type": "markdown",
      "metadata": {
        "id": "w3Uyj-2JXmIK",
        "colab_type": "text"
      },
      "source": [
        "\n",
        "\n",
        "*   In our FIRST convolutional layer, we want to apply 64 5x5 filters to the input layer, with a Relu activation function\n",
        "*   In our Second convolutional layer, we want to apply 128 5x5 filters to the input layer, with a Relu activation function\n",
        "\n",
        "\n",
        "*  In our THIRD convolutional layer, we want to apply 256 5x5 filters to the input layer, with a Relu activation function\n",
        "\n",
        "*  We also specified max pooling with a 2x2 filter and stride of 2\n",
        "\n",
        "\n",
        "*   We want to add a sense layer( with 256 neurons and ReLu activation) to our CNN to perform classification on the festures extracted by the convolution/pooling layers. Before we connect the layer, however we'll flatten our feature into a vector that can be fed into a fully connected neural network classifier.\n",
        "*   For the activation function, we use tf elu to add ReLu activation\n",
        "\n",
        "*   To help improve the results of our model, we also apply dropout regularisation to our dense layer, using the dropout method in layers. The rate argument specifies the dropout rate; here we us 0.5, which means 50% of the elements will be randomly dropped out during training or probability of 0.5 that given element will be dropped during the training.\n",
        "*   Also Dense Layer with 10 neurons, one for each digit target class(0-9)\n",
        "\n",
        "\n",
        "\n",
        "\n",
        "\n",
        "\n",
        "\n"
      ]
    },
    {
      "cell_type": "code",
      "metadata": {
        "id": "UzVX-aUeaQzU",
        "colab_type": "code",
        "outputId": "a647385a-4ce5-4b80-b3b4-4901a99dd98e",
        "colab": {
          "base_uri": "https://localhost:8080/",
          "height": 1000
        }
      },
      "source": [
        "import os\n",
        "\n",
        "#This saddress identifies the TPU we'll use when configuring Tensorflow\n",
        "resolver =tf.contrib.cluster_resolver.TPUClusterResolver(\"grpc://\" + os.environ[\"COLAB_TPU_ADDR\"])\n",
        "tf.contrib.distribute.initialize_tpu_system(resolver)\n",
        "strategy = tf.contrib.distribute.TPUStrategy(resolver)\n",
        "\n",
        "with strategy.scope():\n",
        "  model = create_model()\n",
        "  model.compile(\n",
        "      optimizer= tf.keras.optimizers.Adam(learning_rate=1e-3, ),\n",
        "      loss = \"sparse_categorical_crossentropy\",\n",
        "      metrics = [\"sparse_categorical_accuracy\"])\n",
        "  \n",
        "model.fit(\n",
        "      x_train.astype(np.float32), y_train.astype(np.float32),\n",
        "      epochs=17,\n",
        "      steps_per_epoch=60,\n",
        "      validation_data=(x_test.astype(np.float32), y_test.astype(np.float32)),\n",
        "      validation_freq=17\n",
        ")\n",
        "\n",
        "model.save_weights(\"./fashion_mnist.h5\", overwrite=True)"
      ],
      "execution_count": 3,
      "outputs": [
        {
          "output_type": "stream",
          "text": [
            "WARNING:tensorflow:\n",
            "The TensorFlow contrib module will not be included in TensorFlow 2.0.\n",
            "For more information, please see:\n",
            "  * https://github.com/tensorflow/community/blob/master/rfcs/20180907-contrib-sunset.md\n",
            "  * https://github.com/tensorflow/addons\n",
            "  * https://github.com/tensorflow/io (for I/O related ops)\n",
            "If you depend on functionality not listed there, please file an issue.\n",
            "\n",
            "INFO:tensorflow:Initializing the TPU system.\n",
            "INFO:tensorflow:Finished initializing TPU system.\n",
            "INFO:tensorflow:Querying Tensorflow master (grpc://10.26.192.146:8470) for TPU system metadata.\n",
            "INFO:tensorflow:Found TPU system:\n",
            "INFO:tensorflow:*** Num TPU Cores: 8\n",
            "INFO:tensorflow:*** Num TPU Workers: 1\n",
            "INFO:tensorflow:*** Num TPU Cores Per Worker: 8\n",
            "INFO:tensorflow:*** Available Device: _DeviceAttributes(/job:worker/replica:0/task:0/device:CPU:0, CPU, -1, 6426833409769284724)\n",
            "INFO:tensorflow:*** Available Device: _DeviceAttributes(/job:worker/replica:0/task:0/device:TPU:0, TPU, 17179869184, 8037614599147423424)\n",
            "INFO:tensorflow:*** Available Device: _DeviceAttributes(/job:worker/replica:0/task:0/device:TPU:1, TPU, 17179869184, 16947694380513800655)\n",
            "INFO:tensorflow:*** Available Device: _DeviceAttributes(/job:worker/replica:0/task:0/device:TPU:2, TPU, 17179869184, 10676683841577055165)\n",
            "INFO:tensorflow:*** Available Device: _DeviceAttributes(/job:worker/replica:0/task:0/device:TPU:3, TPU, 17179869184, 16949388614918345546)\n",
            "INFO:tensorflow:*** Available Device: _DeviceAttributes(/job:worker/replica:0/task:0/device:TPU:4, TPU, 17179869184, 11505567401289340330)\n",
            "INFO:tensorflow:*** Available Device: _DeviceAttributes(/job:worker/replica:0/task:0/device:TPU:5, TPU, 17179869184, 9379514673152301670)\n",
            "INFO:tensorflow:*** Available Device: _DeviceAttributes(/job:worker/replica:0/task:0/device:TPU:6, TPU, 17179869184, 6836453356996658843)\n",
            "INFO:tensorflow:*** Available Device: _DeviceAttributes(/job:worker/replica:0/task:0/device:TPU:7, TPU, 17179869184, 5019939689323240921)\n",
            "INFO:tensorflow:*** Available Device: _DeviceAttributes(/job:worker/replica:0/task:0/device:TPU_SYSTEM:0, TPU_SYSTEM, 8589934592, 1405207167501062216)\n",
            "INFO:tensorflow:*** Available Device: _DeviceAttributes(/job:worker/replica:0/task:0/device:XLA_CPU:0, XLA_CPU, 17179869184, 8095915315853094042)\n",
            "WARNING:tensorflow:From /usr/local/lib/python3.6/dist-packages/tensorflow/python/ops/init_ops.py:1251: calling VarianceScaling.__init__ (from tensorflow.python.ops.init_ops) with dtype is deprecated and will be removed in a future version.\n",
            "Instructions for updating:\n",
            "Call initializer instance with the dtype argument instead of passing it to the constructor\n",
            "Epoch 1/17\n",
            "WARNING:tensorflow:From /usr/local/lib/python3.6/dist-packages/tensorflow/python/keras/engine/training_distributed.py:411: Variable.load (from tensorflow.python.ops.variables) is deprecated and will be removed in a future version.\n",
            "Instructions for updating:\n",
            "Prefer Variable.assign which has equivalent behavior in 2.X.\n",
            "60/60 [==============================] - 4s 71ms/step - loss: 1.1776 - sparse_categorical_accuracy: 0.6823\n",
            "Epoch 2/17\n",
            "60/60 [==============================] - 1s 24ms/step - loss: 0.5455 - sparse_categorical_accuracy: 0.8169\n",
            "Epoch 3/17\n",
            "60/60 [==============================] - 1s 23ms/step - loss: 0.4407 - sparse_categorical_accuracy: 0.8486\n",
            "Epoch 4/17\n",
            "60/60 [==============================] - 1s 23ms/step - loss: 0.3836 - sparse_categorical_accuracy: 0.8666\n",
            "Epoch 5/17\n",
            "60/60 [==============================] - 1s 23ms/step - loss: 0.3464 - sparse_categorical_accuracy: 0.8778\n",
            "Epoch 6/17\n",
            "60/60 [==============================] - 1s 23ms/step - loss: 0.3143 - sparse_categorical_accuracy: 0.8884\n",
            "Epoch 7/17\n",
            "60/60 [==============================] - 1s 23ms/step - loss: 0.2890 - sparse_categorical_accuracy: 0.8966\n",
            "Epoch 8/17\n",
            "60/60 [==============================] - 1s 23ms/step - loss: 0.2702 - sparse_categorical_accuracy: 0.9043\n",
            "Epoch 9/17\n",
            "60/60 [==============================] - 1s 23ms/step - loss: 0.2545 - sparse_categorical_accuracy: 0.9071\n",
            "Epoch 10/17\n",
            "60/60 [==============================] - 1s 23ms/step - loss: 0.2333 - sparse_categorical_accuracy: 0.9146\n",
            "Epoch 11/17\n",
            "60/60 [==============================] - 1s 23ms/step - loss: 0.2151 - sparse_categorical_accuracy: 0.9213\n",
            "Epoch 12/17\n",
            "60/60 [==============================] - 1s 23ms/step - loss: 0.2059 - sparse_categorical_accuracy: 0.9241\n",
            "Epoch 13/17\n",
            "60/60 [==============================] - 1s 24ms/step - loss: 0.1941 - sparse_categorical_accuracy: 0.9290\n",
            "Epoch 14/17\n",
            "60/60 [==============================] - 1s 24ms/step - loss: 0.1835 - sparse_categorical_accuracy: 0.9318\n",
            "Epoch 15/17\n",
            "60/60 [==============================] - 1s 23ms/step - loss: 0.1743 - sparse_categorical_accuracy: 0.9341\n",
            "Epoch 16/17\n",
            "60/60 [==============================] - 1s 23ms/step - loss: 0.1630 - sparse_categorical_accuracy: 0.9391\n",
            "Epoch 17/17\n",
            "57/60 [===========================>..] - ETA: 0s - loss: 0.1537 - sparse_categorical_accuracy: 0.9417INFO:tensorflow:Running validation at fit epoch: 16\n",
            "10/10 [==============================] - 4s 359ms/step\n",
            "10/10 [==============================] - 4s 359ms/step\n",
            "60/60 [==============================] - 7s 119ms/step - loss: 0.1536 - sparse_categorical_accuracy: 0.9418 - val_loss: 0.2321 - val_sparse_categorical_accuracy: 0.9250\n"
          ],
          "name": "stdout"
        }
      ]
    },
    {
      "cell_type": "markdown",
      "metadata": {
        "id": "K13l1BBijDc-",
        "colab_type": "text"
      },
      "source": [
        "**This appproach achieved an accuracy of about 94%. With more adv anced approaches, the model can be improved.**"
      ]
    },
    {
      "cell_type": "markdown",
      "metadata": {
        "id": "YtF0sucUjWEl",
        "colab_type": "text"
      },
      "source": [
        "**Now that we are done training, we will see how well the modle can predict fashion categories**"
      ]
    },
    {
      "cell_type": "code",
      "metadata": {
        "id": "8vlLAiP-gs_f",
        "colab_type": "code",
        "colab": {
          "base_uri": "https://localhost:8080/",
          "height": 507
        },
        "outputId": "be5f74fb-2c91-40a1-a861-298ddf917d7c"
      },
      "source": [
        "LABEL_NAMES = [\"t_shirt\", \"trouser\", \"pullover\",\"dress\", \"coat\", \"sandal\", \"shirt\", \"sneaker\",\"bag\", \"ankle_boots\"]\n",
        "\n",
        "cpu_model = create_model()\n",
        "cpu_model.load_weights(\"./fashion_mnist.h5\")\n",
        "\n",
        "from matplotlib import pyplot\n",
        "%matplotlib inline\n",
        "\n",
        "def plot_predictions(images, predictions):\n",
        "  n = images.shape[0]\n",
        "  nc = int(np.ceil(n/4))\n",
        "  f, axes = pyplot.subplots(nc, 4)\n",
        "  for i in range(nc * 4):\n",
        "    y = i//4\n",
        "    x = i%4\n",
        "    axes[x,y].axis(\"off\")\n",
        "    \n",
        "    label = LABEL_NAMES[np.argmax(predictions[i])]\n",
        "    confidence = np.max(predictions[i])\n",
        "    if i>n:\n",
        "      continue\n",
        "    axes[x,y].imshow(images[i])\n",
        "    axes[x,y].text(0.5,0.5, label + \"\\n%.3f\"% confidence, fontsize=14)\n",
        "    \n",
        "  pyplot.gcf().set_size_inches(8,8)\n",
        "  \n",
        "plot_predictions(np.squeeze(x_test[:16]),\n",
        "                  cpu_model.predict(x_test[:16]))\n",
        "    \n",
        "   "
      ],
      "execution_count": 13,
      "outputs": [
        {
          "output_type": "display_data",
          "data": {
            "image/png": "[encoded data removed]",
            "text/plain": [
              "<Figure size 576x576 with 16 Axes>"
            ]
          },
          "metadata": {
            "tags": []
          }
        }
      ]
    },
    {
      "cell_type": "code",
      "metadata": {
        "id": "JC-Ogh-WmN0V",
        "colab_type": "code",
        "colab": {}
      },
      "source": [
        "LABEL_NAMES = [\"t_shirt\", \"trouser\", \"pullover\",\"dress\", \"coat\", \"sandal\", \"shirt\", \"sneaker\",\"bag\", \"ankle_boots\"]\n",
        "\n",
        "cpu_model = create_model()\n",
        "cpu_model.load_weights(\"./fashion_mnist.h5\")\n",
        "\n",
        "from matplotlib import pyplot\n",
        "%matplotlib inline\n",
        "\n",
        "def plot_predictions(images, predictions):\n",
        "  n = images.shape[0]\n",
        "  nc = int(np.ceil(n/4))\n",
        "  f, axes = pyplot.subplots(nc, 4)\n",
        "  for i in range(nc * 4):\n",
        "    y = i//4\n",
        "    x = i%4\n",
        "    axes[x,y].axis(\"off\")\n",
        "    \n",
        "    label = LABEL_NAMES[np.argmax(predictions[i])]\n",
        "    confidence = np.max(predictions[i])\n",
        "    if i>n:\n",
        "      continue\n",
        "    axes[x,y].immshow(images[i])\n",
        "    axes[x,y].text(0.5,0.5, label + \"\\n%.3f\"% confidence, fontsize=14)\n",
        "    \n",
        "    lot.gcf().set_size_inches(8,8)\n",
        "  \n",
        "  plot_predictions(np.squeeze(x_test[:16]),\n",
        "                  cpu_model.predict(x_test[:16]))"
      ],
      "execution_count": 0,
      "outputs": []
    }
  ]
}